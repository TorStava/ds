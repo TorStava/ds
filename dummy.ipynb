{
 "cells": [
  {
   "cell_type": "markdown",
   "metadata": {},
   "source": [
    "# Sample jupyter notebook\n",
    "\n",
    "Here I show you how this docker container was created %)"
   ]
  },
  {
   "cell_type": "code",
   "execution_count": 1,
   "metadata": {
    "collapsed": true
   },
   "outputs": [],
   "source": [
    "import os\n",
    "import sys\n",
    "import getpass"
   ]
  },
  {
   "cell_type": "markdown",
   "metadata": {},
   "source": [
    "We are working inside docker container, but in python, so let us check:\n",
    "- who we are\n",
    "- where we are\n",
    "- are there any files\n",
    "- how to execute shell commands for example to place dataset somewhere"
   ]
  },
  {
   "cell_type": "code",
   "execution_count": 2,
   "metadata": {
    "collapsed": false
   },
   "outputs": [
    {
     "name": "stdout",
     "output_type": "stream",
     "text": [
      "/notebooks\n"
     ]
    }
   ],
   "source": [
    "print os.getcwdu()"
   ]
  },
  {
   "cell_type": "markdown",
   "metadata": {},
   "source": [
    "Here we are executing shell command.\n",
    "\n",
    "Everything after exclamation mark should be found in path:\n",
    "\n",
    "```\n",
    "!pwd\n",
    "```\n",
    "\n",
    "otherwise **install it**!"
   ]
  },
  {
   "cell_type": "code",
   "execution_count": 3,
   "metadata": {
    "collapsed": false
   },
   "outputs": [
    {
     "name": "stdout",
     "output_type": "stream",
     "text": [
      "/notebooks\r\n"
     ]
    }
   ],
   "source": [
    "# execute shell command :)\n",
    "!pwd"
   ]
  },
  {
   "cell_type": "code",
   "execution_count": 4,
   "metadata": {
    "collapsed": false
   },
   "outputs": [
    {
     "data": {
      "text/plain": [
       "['.ipynb_checkpoints',\n",
       " 'data',\n",
       " 'docker-compose.yml',\n",
       " 'README.md',\n",
       " 'Untitled.ipynb']"
      ]
     },
     "execution_count": 4,
     "metadata": {},
     "output_type": "execute_result"
    }
   ],
   "source": [
    "# directory listing\n",
    "os.listdir('.')"
   ]
  },
  {
   "cell_type": "code",
   "execution_count": 5,
   "metadata": {
    "collapsed": false
   },
   "outputs": [
    {
     "name": "stdout",
     "output_type": "stream",
     "text": [
      "root\r\n"
     ]
    }
   ],
   "source": [
    "!whoami"
   ]
  },
  {
   "cell_type": "code",
   "execution_count": 6,
   "metadata": {
    "collapsed": false
   },
   "outputs": [
    {
     "data": {
      "text/plain": [
       "'root'"
      ]
     },
     "execution_count": 6,
     "metadata": {},
     "output_type": "execute_result"
    }
   ],
   "source": [
    "getpass.getuser()"
   ]
  },
  {
   "cell_type": "code",
   "execution_count": 7,
   "metadata": {
    "collapsed": false,
    "scrolled": true
   },
   "outputs": [
    {
     "name": "stdout",
     "output_type": "stream",
     "text": [
      "linux2\n",
      "2.7.13 |Anaconda 4.3.0 (64-bit)| (default, Dec 20 2016, 23:09:15) \n",
      "[GCC 4.4.7 20120313 (Red Hat 4.4.7-1)]\n"
     ]
    }
   ],
   "source": [
    "print sys.platform\n",
    "print sys.version"
   ]
  },
  {
   "cell_type": "code",
   "execution_count": null,
   "metadata": {
    "collapsed": true
   },
   "outputs": [],
   "source": [
    "# conda packages installed"
   ]
  },
  {
   "cell_type": "code",
   "execution_count": 8,
   "metadata": {
    "collapsed": false
   },
   "outputs": [
    {
     "name": "stdout",
     "output_type": "stream",
     "text": [
      "# packages in environment at /opt/conda:\n",
      "#\n",
      "_license                  1.1                      py27_1  \n",
      "alabaster                 0.7.9                    py27_0  \n",
      "anaconda                  4.3.0               np111py27_0  \n",
      "anaconda-client           1.6.0                    py27_0  \n",
      "anaconda-navigator        1.4.3                    py27_0  \n",
      "argcomplete               1.0.0                    py27_1  \n",
      "astroid                   1.4.9                    py27_0  \n",
      "astropy                   1.3                 np111py27_0  \n",
      "babel                     2.3.4                    py27_0  \n",
      "backports                 1.0                      py27_0  \n",
      "backports_abc             0.5                      py27_0  \n",
      "beautifulsoup4            4.5.3                    py27_0  \n",
      "bitarray                  0.8.1                    py27_0  \n",
      "blaze                     0.10.1                   py27_0  \n",
      "bokeh                     0.12.4                   py27_0  \n",
      "boto                      2.45.0                   py27_0  \n",
      "bottleneck                1.2.0               np111py27_0  \n",
      "cairo                     1.14.8                        0  \n",
      "cdecimal                  2.3                      py27_2  \n",
      "cffi                      1.9.1                    py27_0  \n",
      "chardet                   2.3.0                    py27_0  \n",
      "chest                     0.2.3                    py27_0  \n",
      "click                     6.7                      py27_0  \n",
      "cloudpickle               0.2.2                    py27_0  \n",
      "clyent                    1.2.2                    py27_0  \n",
      "colorama                  0.3.7                    py27_0  \n",
      "conda                     4.3.13                   py27_0  \n",
      "conda-env                 2.6.0                         0  \n",
      "configobj                 5.0.6                    py27_0  \n",
      "configparser              3.5.0                    py27_0  \n",
      "contextlib2               0.5.4                    py27_0  \n",
      "cryptography              1.7.1                    py27_0  \n",
      "curl                      7.52.1                        0  \n",
      "cycler                    0.10.0                   py27_0  \n",
      "cython                    0.25.2                   py27_0  \n",
      "cytoolz                   0.8.2                    py27_0  \n",
      "dask                      0.13.0                   py27_0  \n",
      "datashape                 0.5.4                    py27_0  \n",
      "dbus                      1.10.10                       0  \n",
      "decorator                 4.0.11                   py27_0  \n",
      "dill                      0.2.5                    py27_0  \n",
      "docutils                  0.13.1                   py27_0  \n",
      "entrypoints               0.2.2                    py27_0  \n",
      "enum34                    1.1.6                    py27_0  \n",
      "et_xmlfile                1.0.1                    py27_0  \n",
      "expat                     2.1.0                         0  \n",
      "fastcache                 1.0.2                    py27_1  \n",
      "flask                     0.12                     py27_0  \n",
      "flask-cors                3.0.2                    py27_0  \n",
      "fontconfig                2.12.1                        2  \n",
      "freetype                  2.5.5                         2  \n",
      "funcsigs                  1.0.2                    py27_0  \n",
      "functools32               3.2.3.2                  py27_0  \n",
      "futures                   3.0.5                    py27_0  \n",
      "get_terminal_size         1.0.0                    py27_0  \n",
      "gevent                    1.2.1                    py27_0  \n",
      "glib                      2.50.2                        1  \n",
      "greenlet                  0.4.11                   py27_0  \n",
      "grin                      1.2.1                    py27_3  \n",
      "gst-plugins-base          1.8.0                         0  \n",
      "gstreamer                 1.8.0                         0  \n",
      "h5py                      2.6.0               np111py27_2  \n",
      "harfbuzz                  0.9.39                        2  \n",
      "hdf5                      1.8.17                        1  \n",
      "heapdict                  1.0.0                    py27_1  \n",
      "icu                       54.1                          0  \n",
      "idna                      2.2                      py27_0  \n",
      "imagesize                 0.7.1                    py27_0  \n",
      "ipaddress                 1.0.18                   py27_0  \n",
      "ipykernel                 4.5.2                    py27_0  \n",
      "ipython                   5.1.0                    py27_0  \n",
      "ipython_genutils          0.1.0                    py27_0  \n",
      "ipywidgets                5.2.2                    py27_1  \n",
      "isort                     4.2.5                    py27_0  \n",
      "itsdangerous              0.24                     py27_0  \n",
      "jbig                      2.1                           0  \n",
      "jdcal                     1.3                      py27_0  \n",
      "jedi                      0.9.0                    py27_1  \n",
      "jinja2                    2.9.4                    py27_0  \n",
      "jpeg                      9b                            0  \n",
      "jsonschema                2.5.1                    py27_0  \n",
      "jupyter                   1.0.0                    py27_3  \n",
      "jupyter_client            4.4.0                    py27_0  \n",
      "jupyter_console           5.0.0                    py27_0  \n",
      "jupyter_core              4.2.1                    py27_0  \n",
      "lazy-object-proxy         1.2.2                    py27_0  \n",
      "libffi                    3.2.1                         1  \n",
      "libgcc                    4.8.5                         2  \n",
      "libgfortran               3.0.0                         1  \n",
      "libiconv                  1.14                          0  \n",
      "libpng                    1.6.27                        0  \n",
      "libsodium                 1.0.10                        0  \n",
      "libtiff                   4.0.6                         3  \n",
      "libxcb                    1.12                          1  \n",
      "libxml2                   2.9.4                         0  \n",
      "libxslt                   1.1.29                        0  \n",
      "llvmlite                  0.15.0                   py27_0  \n",
      "locket                    0.2.0                    py27_1  \n",
      "lxml                      3.7.2                    py27_0  \n",
      "markupsafe                0.23                     py27_2  \n",
      "matplotlib                2.0.0               np111py27_0  \n",
      "mistune                   0.7.3                    py27_0  \n",
      "mkl                       2017.0.1                      0  \n",
      "mkl-service               1.1.2                    py27_3  \n",
      "mpmath                    0.19                     py27_1  \n",
      "multipledispatch          0.4.9                    py27_0  \n",
      "nbconvert                 4.2.0                    py27_0  \n",
      "nbformat                  4.2.0                    py27_0  \n",
      "networkx                  1.11                     py27_0  \n",
      "nltk                      3.2.2                    py27_0  \n",
      "nose                      1.3.7                    py27_1  \n",
      "notebook                  4.3.1                    py27_0  \n",
      "numba                     0.30.1              np111py27_0  \n",
      "numexpr                   2.6.1               np111py27_2  \n",
      "numpy                     1.11.3                   py27_0  \n",
      "numpydoc                  0.6.0                    py27_0  \n",
      "odo                       0.5.0                    py27_1  \n",
      "openpyxl                  2.4.1                    py27_0  \n",
      "openssl                   1.0.2k                        0  \n",
      "pandas                    0.19.2              np111py27_1  \n",
      "partd                     0.3.7                    py27_0  \n",
      "path.py                   10.0                     py27_0  \n",
      "pathlib2                  2.2.0                    py27_0  \n",
      "patsy                     0.4.1                    py27_0  \n",
      "pcre                      8.39                          1  \n",
      "pep8                      1.7.0                    py27_0  \n",
      "pexpect                   4.2.1                    py27_0  \n",
      "pickleshare               0.7.4                    py27_0  \n",
      "pillow                    4.0.0                    py27_0  \n",
      "pip                       9.0.1                    py27_1  \n",
      "pixman                    0.34.0                        0  \n",
      "ply                       3.9                      py27_0  \n",
      "prompt_toolkit            1.0.9                    py27_0  \n",
      "psutil                    5.0.1                    py27_0  \n",
      "ptyprocess                0.5.1                    py27_0  \n",
      "py                        1.4.32                   py27_0  \n",
      "pyasn1                    0.1.9                    py27_0  \n",
      "pycairo                   1.10.0                   py27_0  \n",
      "pycosat                   0.6.1                    py27_1  \n",
      "pycparser                 2.17                     py27_0  \n",
      "pycrypto                  2.6.1                    py27_4  \n",
      "pycurl                    7.43.0                   py27_2  \n",
      "pyflakes                  1.5.0                    py27_0  \n",
      "pygments                  2.1.3                    py27_0  \n",
      "pylint                    1.6.4                    py27_1  \n",
      "pyopenssl                 16.2.0                   py27_0  \n",
      "pyparsing                 2.1.4                    py27_0  \n",
      "pyqt                      5.6.0                    py27_2  \n",
      "pytables                  3.3.0               np111py27_0  \n",
      "pytest                    3.0.5                    py27_0  \n",
      "python                    2.7.13                        0  \n",
      "python-dateutil           2.6.0                    py27_0  \n",
      "pytz                      2016.10                  py27_0  \n",
      "pyyaml                    3.12                     py27_0  \n",
      "pyzmq                     16.0.2                   py27_0  \n",
      "qt                        5.6.2                         3  \n",
      "qtawesome                 0.4.3                    py27_0  \n",
      "qtconsole                 4.2.1                    py27_1  \n",
      "qtpy                      1.2.1                    py27_0  \n",
      "readline                  6.2                           2  \n",
      "redis                     3.2.0                         0  \n",
      "redis-py                  2.10.5                   py27_0  \n",
      "requests                  2.12.4                   py27_0  \n",
      "rope                      0.9.4                    py27_1  \n",
      "ruamel_yaml               0.11.14                  py27_1  \n",
      "scandir                   1.4                      py27_0  \n",
      "scikit-image              0.12.3              np111py27_1  \n",
      "scikit-learn              0.18.1              np111py27_1  \n",
      "scipy                     0.18.1              np111py27_1  \n",
      "seaborn                   0.7.1                    py27_0  \n",
      "setuptools                27.2.0                   py27_0  \n",
      "simplegeneric             0.8.1                    py27_1  \n",
      "singledispatch            3.4.0.3                  py27_0  \n",
      "sip                       4.18                     py27_0  \n",
      "six                       1.10.0                   py27_0  \n",
      "snowballstemmer           1.2.1                    py27_0  \n",
      "sockjs-tornado            1.0.3                    py27_0  \n",
      "sphinx                    1.5.1                    py27_0  \n",
      "spyder                    3.1.2                    py27_0  \n",
      "sqlalchemy                1.1.5                    py27_0  \n",
      "sqlite                    3.13.0                        0  \n",
      "ssl_match_hostname        3.4.0.2                  py27_1  \n",
      "statsmodels               0.6.1               np111py27_1  \n",
      "subprocess32              3.2.7                    py27_0  \n",
      "sympy                     1.0                      py27_0  \n",
      "terminado                 0.6                      py27_0  \n",
      "tk                        8.5.18                        0  \n",
      "toolz                     0.8.2                    py27_0  \n",
      "tornado                   4.4.2                    py27_0  \n",
      "traitlets                 4.3.1                    py27_0  \n",
      "unicodecsv                0.14.1                   py27_0  \n",
      "wcwidth                   0.1.7                    py27_0  \n",
      "werkzeug                  0.11.15                  py27_0  \n",
      "wheel                     0.29.0                   py27_0  \n",
      "widgetsnbextension        1.2.6                    py27_0  \n",
      "wrapt                     1.10.8                   py27_0  \n",
      "xlrd                      1.0.0                    py27_0  \n",
      "xlsxwriter                0.9.6                    py27_0  \n",
      "xlwt                      1.2.0                    py27_0  \n",
      "xz                        5.2.2                         1  \n",
      "yaml                      0.1.6                         0  \n",
      "zeromq                    4.1.5                         0  \n",
      "zlib                      1.2.8                         3  \n"
     ]
    }
   ],
   "source": [
    "!conda list"
   ]
  }
 ],
 "metadata": {
  "kernelspec": {
   "display_name": "Python 2",
   "language": "python",
   "name": "python2"
  },
  "language_info": {
   "codemirror_mode": {
    "name": "ipython",
    "version": 2
   },
   "file_extension": ".py",
   "mimetype": "text/x-python",
   "name": "python",
   "nbconvert_exporter": "python",
   "pygments_lexer": "ipython2",
   "version": "2.7.13"
  }
 },
 "nbformat": 4,
 "nbformat_minor": 2
}
